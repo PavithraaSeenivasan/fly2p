{
 "cells": [
  {
   "cell_type": "markdown",
   "id": "467dd07e",
   "metadata": {},
   "source": [
    "### Load preprocessed imaging data (saved as nc) in napari"
   ]
  },
  {
   "cell_type": "code",
   "execution_count": 1,
   "id": "e3c11b36",
   "metadata": {},
   "outputs": [],
   "source": [
    "import napari\n",
    "import xarray as xr\n",
    "import numpy as np\n",
    "from os.path import sep\n",
    "\n",
    "%config Completer.use_jedi = False  #magic to fix autocomplete issue"
   ]
  },
  {
   "cell_type": "code",
   "execution_count": 2,
   "id": "e1c97225",
   "metadata": {},
   "outputs": [],
   "source": [
    "dataDir = '../sample/'\n",
    "rawTiff = 'SS96-x-7f_EB_sample.tif'\n",
    "genotype = 'SS96-x-GCaMP7f'\n",
    "flyID = 'testfly'\n",
    "trial = 'test'\n",
    "region = 'ellipsoid body'"
   ]
  },
  {
   "cell_type": "code",
   "execution_count": 3,
   "id": "f67dcd84",
   "metadata": {},
   "outputs": [],
   "source": [
    "stack = xr.open_dataarray(dataDir+sep+'img'+sep+'dffStack.nc', decode_coords='coordinates')\n",
    "viewer = napari.view_image(stack)"
   ]
  },
  {
   "cell_type": "code",
   "execution_count": 4,
   "id": "dc65ea56",
   "metadata": {},
   "outputs": [],
   "source": [
    "rois = np.load(dataDir+sep+'img'+sep+'roiMask.npy') \n",
    "rois[np.isnan(rois)] = -1\n",
    "viewer = napari.view_image(rois)"
   ]
  }
 ],
 "metadata": {
  "kernelspec": {
   "display_name": "fly2p",
   "language": "python",
   "name": "fly2p"
  },
  "language_info": {
   "codemirror_mode": {
    "name": "ipython",
    "version": 3
   },
   "file_extension": ".py",
   "mimetype": "text/x-python",
   "name": "python",
   "nbconvert_exporter": "python",
   "pygments_lexer": "ipython3",
   "version": "3.9.6"
  }
 },
 "nbformat": 4,
 "nbformat_minor": 5
}
