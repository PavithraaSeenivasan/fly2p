{
 "cells": [
  {
   "cell_type": "code",
   "execution_count": 1,
   "metadata": {},
   "outputs": [],
   "source": [
    "from ScanImageTiffReader import ScanImageTiffReader\n",
    "import json\n",
    "from matplotlib import pyplot as plt\n",
    "import matplotlib.colors as colors\n",
    "import numpy as np\n",
    "\n",
    "#from sys import path\n",
    "from os.path import sep, exists\n",
    "from os import mkdir, makedirs, getcwd\n",
    "\n",
    "import napari\n",
    "import xarray as xr\n",
    "import pandas as pd\n",
    "from fly2p.viz.viz import myAxisTheme\n",
    "\n",
    "%gui qt5\n",
    "%config Completer.use_jedi = False  #magic to fix autocomplete issue"
   ]
  },
  {
   "cell_type": "code",
   "execution_count": 2,
   "metadata": {},
   "outputs": [],
   "source": [
    "rootDir = '../../../../data_unityvr'\n",
    "subdir = 'RFmap/56H10_x_7f/BU/f01'\n",
    "plotDir = sep.join([rootDir, 'plot', subdir])\n",
    "preprocDir = sep.join([rootDir, 'preproc', subdir])\n",
    "\n",
    "condition = 'brightSpot' #'darkSpot'#\n",
    "trial = 't01'"
   ]
  },
  {
   "cell_type": "code",
   "execution_count": 10,
   "metadata": {},
   "outputs": [
    {
     "name": "stderr",
     "output_type": "stream",
     "text": [
      "/Users/haberkernh/anaconda3/envs/fly2p/lib/python3.9/site-packages/napari/_vispy/vispy_camera.py:109: RuntimeWarning: divide by zero encountered in true_divide\n",
      "  zoom = np.min(canvas_size / scale)\n"
     ]
    }
   ],
   "source": [
    "stack = xr.open_dataarray(preprocDir+sep+condition+sep+trial+sep+'img'+sep+'dffStack.nc', decode_coords='coordinates')\n",
    "viewer = napari.view_image(stack)"
   ]
  },
  {
   "cell_type": "code",
   "execution_count": 11,
   "metadata": {},
   "outputs": [
    {
     "name": "stderr",
     "output_type": "stream",
     "text": [
      "/Users/haberkernh/anaconda3/envs/fly2p/lib/python3.9/site-packages/napari/_vispy/vispy_camera.py:109: RuntimeWarning: divide by zero encountered in true_divide\n",
      "  zoom = np.min(canvas_size / scale)\n"
     ]
    }
   ],
   "source": [
    "#stack = np.load(preprocDir+sep+condition+sep+'stack4dMC.npy') \n",
    "stack = xr.open_dataarray(preprocDir+sep+condition+sep+trial+sep+'img'+sep+'refStackMC.nc', decode_coords='coordinates')\n",
    "viewer = napari.view_image(stack)"
   ]
  },
  {
   "cell_type": "code",
   "execution_count": 12,
   "metadata": {},
   "outputs": [
    {
     "name": "stderr",
     "output_type": "stream",
     "text": [
      "/Users/haberkernh/anaconda3/envs/fly2p/lib/python3.9/site-packages/napari/_vispy/vispy_camera.py:109: RuntimeWarning: divide by zero encountered in true_divide\n",
      "  zoom = np.min(canvas_size / scale)\n"
     ]
    }
   ],
   "source": [
    "rois = np.load(preprocDir+sep+condition+sep+trial+sep+'img'+sep+'roiMask.npy') \n",
    "rois[np.isnan(rois)] = -1\n",
    "viewer = napari.view_image(rois)"
   ]
  },
  {
   "cell_type": "code",
   "execution_count": null,
   "metadata": {},
   "outputs": [],
   "source": []
  },
  {
   "cell_type": "code",
   "execution_count": null,
   "metadata": {},
   "outputs": [],
   "source": []
  }
 ],
 "metadata": {
  "kernelspec": {
   "display_name": "fly2p",
   "language": "python",
   "name": "fly2p"
  },
  "language_info": {
   "codemirror_mode": {
    "name": "ipython",
    "version": 3
   },
   "file_extension": ".py",
   "mimetype": "text/x-python",
   "name": "python",
   "nbconvert_exporter": "python",
   "pygments_lexer": "ipython3",
   "version": "3.9.6"
  }
 },
 "nbformat": 4,
 "nbformat_minor": 5
}
